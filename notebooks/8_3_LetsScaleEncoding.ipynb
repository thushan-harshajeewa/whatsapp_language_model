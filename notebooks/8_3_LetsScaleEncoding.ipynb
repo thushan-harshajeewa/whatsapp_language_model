{
 "cells": [
  {
   "cell_type": "markdown",
   "metadata": {},
   "source": [
    "## Encoding the sequence of text"
   ]
  },
  {
   "cell_type": "markdown",
   "metadata": {},
   "source": [
    "First train the tokenizer with this notebook [2_BytePairEncoding](./2_BytePairEncoding.ipynb) and save it to disk."
   ]
  },
  {
   "cell_type": "code",
   "execution_count": null,
   "metadata": {},
   "outputs": [],
   "source": [
    "import sys\n",
    "sys.path.append('..')"
   ]
  },
  {
   "cell_type": "markdown",
   "metadata": {},
   "source": [
    "Load the new tokenizer."
   ]
  },
  {
   "cell_type": "code",
   "execution_count": null,
   "metadata": {},
   "outputs": [],
   "source": [
    "from minbpe import RegexTokenizer\n",
    "\n",
    "tokenizer = RegexTokenizer()\n",
    "tokenizer.load(model_file=\"../output/tokenizer/darija_tokenizer.model\")"
   ]
  },
  {
   "cell_type": "markdown",
   "metadata": {},
   "source": [
    "Encode the data in batches otherwise you will get OOM (Out Of Memory) error. Experiment with the `batch_size` value until you find the want that uses the most of your RAM without crashing VSCode."
   ]
  },
  {
   "cell_type": "code",
   "execution_count": null,
   "metadata": {},
   "outputs": [],
   "source": [
    "encoded_text_sequence = []\n",
    "batch_size = 100_000_000\n",
    "file_path = \"../data/AtlaSetCombined.txt\"\n",
    "\n",
    "with open(file_path, \"r\") as f:\n",
    "    while True:\n",
    "        chunk = f.read(batch_size)\n",
    "        if not chunk:\n",
    "            break\n",
    "        batch_tokens = tokenizer.encode(chunk)\n",
    "        encoded_text_sequence.extend(batch_tokens)\n",
    "        print(f\"Processed {len(encoded_text_sequence)} tokens so far.\")\n",
    "\n",
    "print(f\"Total tokens: {len(encoded_text_sequence)}\")"
   ]
  },
  {
   "cell_type": "markdown",
   "metadata": {},
   "source": [
    "Save the encoded data so that we can load it later."
   ]
  },
  {
   "cell_type": "code",
   "execution_count": null,
   "metadata": {},
   "outputs": [],
   "source": [
    "import numpy as np\n",
    "\n",
    "output_path = \"../output/encoded_data/encoded_atlaset.npy\"\n",
    "np.save(output_path, np.array(encoded_text_sequence, dtype=np.int64))\n",
    "\n",
    "# Free up memory\n",
    "del encoded_text_sequence"
   ]
  }
 ],
 "metadata": {
  "kernelspec": {
   "display_name": "vincent",
   "language": "python",
   "name": "python3"
  },
  "language_info": {
   "codemirror_mode": {
    "name": "ipython",
    "version": 3
   },
   "file_extension": ".py",
   "mimetype": "text/x-python",
   "name": "python",
   "nbconvert_exporter": "python",
   "pygments_lexer": "ipython3",
   "version": "3.11.10"
  }
 },
 "nbformat": 4,
 "nbformat_minor": 2
}
